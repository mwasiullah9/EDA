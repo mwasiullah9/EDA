{
 "cells": [
  {
   "cell_type": "markdown",
   "id": "003acef6",
   "metadata": {
    "papermill": {
     "duration": 0.010363,
     "end_time": "2023-02-19T13:34:24.723442",
     "exception": false,
     "start_time": "2023-02-19T13:34:24.713079",
     "status": "completed"
    },
    "tags": []
   },
   "source": [
    "# **Importing Libraries**"
   ]
  },
  {
   "cell_type": "code",
   "execution_count": 1,
   "id": "6a15d885",
   "metadata": {
    "execution": {
     "iopub.execute_input": "2023-02-19T13:34:24.744804Z",
     "iopub.status.busy": "2023-02-19T13:34:24.744131Z",
     "iopub.status.idle": "2023-02-19T13:34:25.674913Z",
     "shell.execute_reply": "2023-02-19T13:34:25.673635Z"
    },
    "papermill": {
     "duration": 0.944481,
     "end_time": "2023-02-19T13:34:25.677758",
     "exception": false,
     "start_time": "2023-02-19T13:34:24.733277",
     "status": "completed"
    },
    "tags": []
   },
   "outputs": [],
   "source": [
    "import pandas as pd\n",
    "import numpy as np\n",
    "import matplotlib.pylab as plt\n",
    "import seaborn as sns\n",
    "import matplotlib.patches as mpatches\n",
    "plt.style.use('ggplot')"
   ]
  },
  {
   "cell_type": "markdown",
   "id": "b3b744a9",
   "metadata": {
    "papermill": {
     "duration": 0.009328,
     "end_time": "2023-02-19T13:34:25.696282",
     "exception": false,
     "start_time": "2023-02-19T13:34:25.686954",
     "status": "completed"
    },
    "tags": []
   },
   "source": [
    "# **Reading the Datasets**"
   ]
  },
  {
   "cell_type": "code",
   "execution_count": 2,
   "id": "11317bac",
   "metadata": {
    "execution": {
     "iopub.execute_input": "2023-02-19T13:34:25.716969Z",
     "iopub.status.busy": "2023-02-19T13:34:25.715746Z",
     "iopub.status.idle": "2023-02-19T13:34:25.721569Z",
     "shell.execute_reply": "2023-02-19T13:34:25.720489Z"
    },
    "papermill": {
     "duration": 0.018535,
     "end_time": "2023-02-19T13:34:25.723956",
     "exception": false,
     "start_time": "2023-02-19T13:34:25.705421",
     "status": "completed"
    },
    "tags": []
   },
   "outputs": [],
   "source": [
    "def datasets():\n",
    "    #Training Dataset\n",
    "    train = pd.read_csv(\"../input/pred-student-perf-without-competiton-env/train.csv\")\n",
    "    #Importing Training Labels\n",
    "    labels = pd.read_csv(\"../input/pred-student-perf-without-competiton-env/train_labels.csv\")\n",
    "    #Test Dataset\n",
    "    test = pd.read_csv(\"../input/pred-student-perf-without-competiton-env/test.csv\")\n",
    "    return train, labels, test"
   ]
  },
  {
   "cell_type": "code",
   "execution_count": 3,
   "id": "9b1105c4",
   "metadata": {
    "execution": {
     "iopub.execute_input": "2023-02-19T13:34:25.743681Z",
     "iopub.status.busy": "2023-02-19T13:34:25.743303Z",
     "iopub.status.idle": "2023-02-19T13:35:31.327451Z",
     "shell.execute_reply": "2023-02-19T13:35:31.326274Z"
    },
    "papermill": {
     "duration": 65.597242,
     "end_time": "2023-02-19T13:35:31.330235",
     "exception": false,
     "start_time": "2023-02-19T13:34:25.732993",
     "status": "completed"
    },
    "tags": []
   },
   "outputs": [],
   "source": [
    "train_df, labels_df, test_df = datasets()"
   ]
  },
  {
   "cell_type": "markdown",
   "id": "dc7df600",
   "metadata": {
    "papermill": {
     "duration": 0.008436,
     "end_time": "2023-02-19T13:35:31.347739",
     "exception": false,
     "start_time": "2023-02-19T13:35:31.339303",
     "status": "completed"
    },
    "tags": []
   },
   "source": [
    "# ***Essential Information about Data***"
   ]
  },
  {
   "cell_type": "markdown",
   "id": "8d80f12f",
   "metadata": {
    "papermill": {
     "duration": 0.008497,
     "end_time": "2023-02-19T13:35:31.364862",
     "exception": false,
     "start_time": "2023-02-19T13:35:31.356365",
     "status": "completed"
    },
    "tags": []
   },
   "source": [
    "> Let's explore the train dataset and look at some key insight."
   ]
  },
  {
   "cell_type": "code",
   "execution_count": 4,
   "id": "8e28937c",
   "metadata": {
    "execution": {
     "iopub.execute_input": "2023-02-19T13:35:31.384090Z",
     "iopub.status.busy": "2023-02-19T13:35:31.383661Z",
     "iopub.status.idle": "2023-02-19T13:35:31.417539Z",
     "shell.execute_reply": "2023-02-19T13:35:31.416770Z"
    },
    "papermill": {
     "duration": 0.04705,
     "end_time": "2023-02-19T13:35:31.420707",
     "exception": false,
     "start_time": "2023-02-19T13:35:31.373657",
     "status": "completed"
    },
    "tags": []
   },
   "outputs": [
    {
     "data": {
      "text/html": [
       "<div>\n",
       "<style scoped>\n",
       "    .dataframe tbody tr th:only-of-type {\n",
       "        vertical-align: middle;\n",
       "    }\n",
       "\n",
       "    .dataframe tbody tr th {\n",
       "        vertical-align: top;\n",
       "    }\n",
       "\n",
       "    .dataframe thead th {\n",
       "        text-align: right;\n",
       "    }\n",
       "</style>\n",
       "<table border=\"1\" class=\"dataframe\">\n",
       "  <thead>\n",
       "    <tr style=\"text-align: right;\">\n",
       "      <th></th>\n",
       "      <th>session_id</th>\n",
       "      <th>index</th>\n",
       "      <th>elapsed_time</th>\n",
       "      <th>event_name</th>\n",
       "      <th>name</th>\n",
       "      <th>level</th>\n",
       "      <th>page</th>\n",
       "      <th>room_coor_x</th>\n",
       "      <th>room_coor_y</th>\n",
       "      <th>screen_coor_x</th>\n",
       "      <th>screen_coor_y</th>\n",
       "      <th>hover_duration</th>\n",
       "      <th>text</th>\n",
       "      <th>fqid</th>\n",
       "      <th>room_fqid</th>\n",
       "      <th>text_fqid</th>\n",
       "      <th>fullscreen</th>\n",
       "      <th>hq</th>\n",
       "      <th>music</th>\n",
       "      <th>level_group</th>\n",
       "    </tr>\n",
       "  </thead>\n",
       "  <tbody>\n",
       "    <tr>\n",
       "      <th>0</th>\n",
       "      <td>20090312431273200</td>\n",
       "      <td>0</td>\n",
       "      <td>0</td>\n",
       "      <td>cutscene_click</td>\n",
       "      <td>basic</td>\n",
       "      <td>0</td>\n",
       "      <td>NaN</td>\n",
       "      <td>-413.991405</td>\n",
       "      <td>-159.314686</td>\n",
       "      <td>380.0</td>\n",
       "      <td>494.0</td>\n",
       "      <td>NaN</td>\n",
       "      <td>undefined</td>\n",
       "      <td>intro</td>\n",
       "      <td>tunic.historicalsociety.closet</td>\n",
       "      <td>tunic.historicalsociety.closet.intro</td>\n",
       "      <td>NaN</td>\n",
       "      <td>NaN</td>\n",
       "      <td>NaN</td>\n",
       "      <td>0-4</td>\n",
       "    </tr>\n",
       "    <tr>\n",
       "      <th>1</th>\n",
       "      <td>20090312431273200</td>\n",
       "      <td>1</td>\n",
       "      <td>1323</td>\n",
       "      <td>person_click</td>\n",
       "      <td>basic</td>\n",
       "      <td>0</td>\n",
       "      <td>NaN</td>\n",
       "      <td>-413.991405</td>\n",
       "      <td>-159.314686</td>\n",
       "      <td>380.0</td>\n",
       "      <td>494.0</td>\n",
       "      <td>NaN</td>\n",
       "      <td>Whatcha doing over there, Jo?</td>\n",
       "      <td>gramps</td>\n",
       "      <td>tunic.historicalsociety.closet</td>\n",
       "      <td>tunic.historicalsociety.closet.gramps.intro_0_...</td>\n",
       "      <td>NaN</td>\n",
       "      <td>NaN</td>\n",
       "      <td>NaN</td>\n",
       "      <td>0-4</td>\n",
       "    </tr>\n",
       "    <tr>\n",
       "      <th>2</th>\n",
       "      <td>20090312431273200</td>\n",
       "      <td>2</td>\n",
       "      <td>831</td>\n",
       "      <td>person_click</td>\n",
       "      <td>basic</td>\n",
       "      <td>0</td>\n",
       "      <td>NaN</td>\n",
       "      <td>-413.991405</td>\n",
       "      <td>-159.314686</td>\n",
       "      <td>380.0</td>\n",
       "      <td>494.0</td>\n",
       "      <td>NaN</td>\n",
       "      <td>Just talking to Teddy.</td>\n",
       "      <td>gramps</td>\n",
       "      <td>tunic.historicalsociety.closet</td>\n",
       "      <td>tunic.historicalsociety.closet.gramps.intro_0_...</td>\n",
       "      <td>NaN</td>\n",
       "      <td>NaN</td>\n",
       "      <td>NaN</td>\n",
       "      <td>0-4</td>\n",
       "    </tr>\n",
       "    <tr>\n",
       "      <th>3</th>\n",
       "      <td>20090312431273200</td>\n",
       "      <td>3</td>\n",
       "      <td>1147</td>\n",
       "      <td>person_click</td>\n",
       "      <td>basic</td>\n",
       "      <td>0</td>\n",
       "      <td>NaN</td>\n",
       "      <td>-413.991405</td>\n",
       "      <td>-159.314686</td>\n",
       "      <td>380.0</td>\n",
       "      <td>494.0</td>\n",
       "      <td>NaN</td>\n",
       "      <td>I gotta run to my meeting!</td>\n",
       "      <td>gramps</td>\n",
       "      <td>tunic.historicalsociety.closet</td>\n",
       "      <td>tunic.historicalsociety.closet.gramps.intro_0_...</td>\n",
       "      <td>NaN</td>\n",
       "      <td>NaN</td>\n",
       "      <td>NaN</td>\n",
       "      <td>0-4</td>\n",
       "    </tr>\n",
       "    <tr>\n",
       "      <th>4</th>\n",
       "      <td>20090312431273200</td>\n",
       "      <td>4</td>\n",
       "      <td>1863</td>\n",
       "      <td>person_click</td>\n",
       "      <td>basic</td>\n",
       "      <td>0</td>\n",
       "      <td>NaN</td>\n",
       "      <td>-412.991405</td>\n",
       "      <td>-159.314686</td>\n",
       "      <td>381.0</td>\n",
       "      <td>494.0</td>\n",
       "      <td>NaN</td>\n",
       "      <td>Can I come, Gramps?</td>\n",
       "      <td>gramps</td>\n",
       "      <td>tunic.historicalsociety.closet</td>\n",
       "      <td>tunic.historicalsociety.closet.gramps.intro_0_...</td>\n",
       "      <td>NaN</td>\n",
       "      <td>NaN</td>\n",
       "      <td>NaN</td>\n",
       "      <td>0-4</td>\n",
       "    </tr>\n",
       "    <tr>\n",
       "      <th>5</th>\n",
       "      <td>20090312431273200</td>\n",
       "      <td>5</td>\n",
       "      <td>3423</td>\n",
       "      <td>person_click</td>\n",
       "      <td>basic</td>\n",
       "      <td>0</td>\n",
       "      <td>NaN</td>\n",
       "      <td>-412.991405</td>\n",
       "      <td>-157.314686</td>\n",
       "      <td>381.0</td>\n",
       "      <td>492.0</td>\n",
       "      <td>NaN</td>\n",
       "      <td>Sure thing, Jo. Grab your notebook and come up...</td>\n",
       "      <td>gramps</td>\n",
       "      <td>tunic.historicalsociety.closet</td>\n",
       "      <td>tunic.historicalsociety.closet.gramps.intro_0_...</td>\n",
       "      <td>NaN</td>\n",
       "      <td>NaN</td>\n",
       "      <td>NaN</td>\n",
       "      <td>0-4</td>\n",
       "    </tr>\n",
       "    <tr>\n",
       "      <th>6</th>\n",
       "      <td>20090312431273200</td>\n",
       "      <td>6</td>\n",
       "      <td>5197</td>\n",
       "      <td>person_click</td>\n",
       "      <td>basic</td>\n",
       "      <td>0</td>\n",
       "      <td>NaN</td>\n",
       "      <td>478.485079</td>\n",
       "      <td>-199.971679</td>\n",
       "      <td>593.0</td>\n",
       "      <td>485.0</td>\n",
       "      <td>NaN</td>\n",
       "      <td>See you later, Teddy.</td>\n",
       "      <td>teddy</td>\n",
       "      <td>tunic.historicalsociety.closet</td>\n",
       "      <td>tunic.historicalsociety.closet.teddy.intro_0_cs_0</td>\n",
       "      <td>NaN</td>\n",
       "      <td>NaN</td>\n",
       "      <td>NaN</td>\n",
       "      <td>0-4</td>\n",
       "    </tr>\n",
       "    <tr>\n",
       "      <th>7</th>\n",
       "      <td>20090312431273200</td>\n",
       "      <td>7</td>\n",
       "      <td>6180</td>\n",
       "      <td>person_click</td>\n",
       "      <td>basic</td>\n",
       "      <td>0</td>\n",
       "      <td>NaN</td>\n",
       "      <td>503.355128</td>\n",
       "      <td>-168.619913</td>\n",
       "      <td>609.0</td>\n",
       "      <td>453.0</td>\n",
       "      <td>NaN</td>\n",
       "      <td>I get to go to Gramps's meeting!</td>\n",
       "      <td>teddy</td>\n",
       "      <td>tunic.historicalsociety.closet</td>\n",
       "      <td>tunic.historicalsociety.closet.teddy.intro_0_cs_0</td>\n",
       "      <td>NaN</td>\n",
       "      <td>NaN</td>\n",
       "      <td>NaN</td>\n",
       "      <td>0-4</td>\n",
       "    </tr>\n",
       "    <tr>\n",
       "      <th>8</th>\n",
       "      <td>20090312431273200</td>\n",
       "      <td>8</td>\n",
       "      <td>7014</td>\n",
       "      <td>person_click</td>\n",
       "      <td>basic</td>\n",
       "      <td>0</td>\n",
       "      <td>NaN</td>\n",
       "      <td>510.733442</td>\n",
       "      <td>-157.720642</td>\n",
       "      <td>615.0</td>\n",
       "      <td>442.0</td>\n",
       "      <td>NaN</td>\n",
       "      <td>Now where did I put my notebook?</td>\n",
       "      <td>teddy</td>\n",
       "      <td>tunic.historicalsociety.closet</td>\n",
       "      <td>tunic.historicalsociety.closet.teddy.intro_0_cs_0</td>\n",
       "      <td>NaN</td>\n",
       "      <td>NaN</td>\n",
       "      <td>NaN</td>\n",
       "      <td>0-4</td>\n",
       "    </tr>\n",
       "    <tr>\n",
       "      <th>9</th>\n",
       "      <td>20090312431273200</td>\n",
       "      <td>9</td>\n",
       "      <td>7946</td>\n",
       "      <td>person_click</td>\n",
       "      <td>basic</td>\n",
       "      <td>0</td>\n",
       "      <td>NaN</td>\n",
       "      <td>512.048005</td>\n",
       "      <td>-153.743631</td>\n",
       "      <td>616.0</td>\n",
       "      <td>438.0</td>\n",
       "      <td>NaN</td>\n",
       "      <td>\\u00f0\\u0178\\u02dc\\u00b4</td>\n",
       "      <td>teddy</td>\n",
       "      <td>tunic.historicalsociety.closet</td>\n",
       "      <td>tunic.historicalsociety.closet.teddy.intro_0_cs_0</td>\n",
       "      <td>NaN</td>\n",
       "      <td>NaN</td>\n",
       "      <td>NaN</td>\n",
       "      <td>0-4</td>\n",
       "    </tr>\n",
       "  </tbody>\n",
       "</table>\n",
       "</div>"
      ],
      "text/plain": [
       "          session_id  index  elapsed_time      event_name   name  level  page  \\\n",
       "0  20090312431273200      0             0  cutscene_click  basic      0   NaN   \n",
       "1  20090312431273200      1          1323    person_click  basic      0   NaN   \n",
       "2  20090312431273200      2           831    person_click  basic      0   NaN   \n",
       "3  20090312431273200      3          1147    person_click  basic      0   NaN   \n",
       "4  20090312431273200      4          1863    person_click  basic      0   NaN   \n",
       "5  20090312431273200      5          3423    person_click  basic      0   NaN   \n",
       "6  20090312431273200      6          5197    person_click  basic      0   NaN   \n",
       "7  20090312431273200      7          6180    person_click  basic      0   NaN   \n",
       "8  20090312431273200      8          7014    person_click  basic      0   NaN   \n",
       "9  20090312431273200      9          7946    person_click  basic      0   NaN   \n",
       "\n",
       "   room_coor_x  room_coor_y  screen_coor_x  screen_coor_y  hover_duration  \\\n",
       "0  -413.991405  -159.314686          380.0          494.0             NaN   \n",
       "1  -413.991405  -159.314686          380.0          494.0             NaN   \n",
       "2  -413.991405  -159.314686          380.0          494.0             NaN   \n",
       "3  -413.991405  -159.314686          380.0          494.0             NaN   \n",
       "4  -412.991405  -159.314686          381.0          494.0             NaN   \n",
       "5  -412.991405  -157.314686          381.0          492.0             NaN   \n",
       "6   478.485079  -199.971679          593.0          485.0             NaN   \n",
       "7   503.355128  -168.619913          609.0          453.0             NaN   \n",
       "8   510.733442  -157.720642          615.0          442.0             NaN   \n",
       "9   512.048005  -153.743631          616.0          438.0             NaN   \n",
       "\n",
       "                                                text    fqid  \\\n",
       "0                                          undefined   intro   \n",
       "1                      Whatcha doing over there, Jo?  gramps   \n",
       "2                             Just talking to Teddy.  gramps   \n",
       "3                         I gotta run to my meeting!  gramps   \n",
       "4                                Can I come, Gramps?  gramps   \n",
       "5  Sure thing, Jo. Grab your notebook and come up...  gramps   \n",
       "6                              See you later, Teddy.   teddy   \n",
       "7                   I get to go to Gramps's meeting!   teddy   \n",
       "8                   Now where did I put my notebook?   teddy   \n",
       "9                           \\u00f0\\u0178\\u02dc\\u00b4   teddy   \n",
       "\n",
       "                        room_fqid  \\\n",
       "0  tunic.historicalsociety.closet   \n",
       "1  tunic.historicalsociety.closet   \n",
       "2  tunic.historicalsociety.closet   \n",
       "3  tunic.historicalsociety.closet   \n",
       "4  tunic.historicalsociety.closet   \n",
       "5  tunic.historicalsociety.closet   \n",
       "6  tunic.historicalsociety.closet   \n",
       "7  tunic.historicalsociety.closet   \n",
       "8  tunic.historicalsociety.closet   \n",
       "9  tunic.historicalsociety.closet   \n",
       "\n",
       "                                           text_fqid  fullscreen  hq  music  \\\n",
       "0               tunic.historicalsociety.closet.intro         NaN NaN    NaN   \n",
       "1  tunic.historicalsociety.closet.gramps.intro_0_...         NaN NaN    NaN   \n",
       "2  tunic.historicalsociety.closet.gramps.intro_0_...         NaN NaN    NaN   \n",
       "3  tunic.historicalsociety.closet.gramps.intro_0_...         NaN NaN    NaN   \n",
       "4  tunic.historicalsociety.closet.gramps.intro_0_...         NaN NaN    NaN   \n",
       "5  tunic.historicalsociety.closet.gramps.intro_0_...         NaN NaN    NaN   \n",
       "6  tunic.historicalsociety.closet.teddy.intro_0_cs_0         NaN NaN    NaN   \n",
       "7  tunic.historicalsociety.closet.teddy.intro_0_cs_0         NaN NaN    NaN   \n",
       "8  tunic.historicalsociety.closet.teddy.intro_0_cs_0         NaN NaN    NaN   \n",
       "9  tunic.historicalsociety.closet.teddy.intro_0_cs_0         NaN NaN    NaN   \n",
       "\n",
       "  level_group  \n",
       "0         0-4  \n",
       "1         0-4  \n",
       "2         0-4  \n",
       "3         0-4  \n",
       "4         0-4  \n",
       "5         0-4  \n",
       "6         0-4  \n",
       "7         0-4  \n",
       "8         0-4  \n",
       "9         0-4  "
      ]
     },
     "execution_count": 4,
     "metadata": {},
     "output_type": "execute_result"
    }
   ],
   "source": [
    "train_df.head(10)"
   ]
  },
  {
   "cell_type": "code",
   "execution_count": 5,
   "id": "e8e8e5f7",
   "metadata": {
    "execution": {
     "iopub.execute_input": "2023-02-19T13:35:31.441842Z",
     "iopub.status.busy": "2023-02-19T13:35:31.440735Z",
     "iopub.status.idle": "2023-02-19T13:35:31.446926Z",
     "shell.execute_reply": "2023-02-19T13:35:31.445870Z"
    },
    "papermill": {
     "duration": 0.019295,
     "end_time": "2023-02-19T13:35:31.449424",
     "exception": false,
     "start_time": "2023-02-19T13:35:31.430129",
     "status": "completed"
    },
    "tags": []
   },
   "outputs": [
    {
     "name": "stdout",
     "output_type": "stream",
     "text": [
      "Index(['session_id', 'index', 'elapsed_time', 'event_name', 'name', 'level',\n",
      "       'page', 'room_coor_x', 'room_coor_y', 'screen_coor_x', 'screen_coor_y',\n",
      "       'hover_duration', 'text', 'fqid', 'room_fqid', 'text_fqid',\n",
      "       'fullscreen', 'hq', 'music', 'level_group'],\n",
      "      dtype='object')\n"
     ]
    }
   ],
   "source": [
    "print(train_df.columns)"
   ]
  },
  {
   "cell_type": "code",
   "execution_count": 6,
   "id": "34a458b8",
   "metadata": {
    "execution": {
     "iopub.execute_input": "2023-02-19T13:35:31.472148Z",
     "iopub.status.busy": "2023-02-19T13:35:31.471448Z",
     "iopub.status.idle": "2023-02-19T13:35:41.329290Z",
     "shell.execute_reply": "2023-02-19T13:35:41.328315Z"
    },
    "papermill": {
     "duration": 9.871818,
     "end_time": "2023-02-19T13:35:41.331822",
     "exception": false,
     "start_time": "2023-02-19T13:35:31.460004",
     "status": "completed"
    },
    "tags": []
   },
   "outputs": [],
   "source": [
    "train_df = train_df.sort_values(['session_id','elapsed_time'])"
   ]
  },
  {
   "cell_type": "code",
   "execution_count": 7,
   "id": "fa8c8a4d",
   "metadata": {
    "execution": {
     "iopub.execute_input": "2023-02-19T13:35:41.354035Z",
     "iopub.status.busy": "2023-02-19T13:35:41.353030Z",
     "iopub.status.idle": "2023-02-19T13:35:41.387146Z",
     "shell.execute_reply": "2023-02-19T13:35:41.385972Z"
    },
    "papermill": {
     "duration": 0.047991,
     "end_time": "2023-02-19T13:35:41.389742",
     "exception": false,
     "start_time": "2023-02-19T13:35:41.341751",
     "status": "completed"
    },
    "tags": []
   },
   "outputs": [
    {
     "data": {
      "text/html": [
       "<div>\n",
       "<style scoped>\n",
       "    .dataframe tbody tr th:only-of-type {\n",
       "        vertical-align: middle;\n",
       "    }\n",
       "\n",
       "    .dataframe tbody tr th {\n",
       "        vertical-align: top;\n",
       "    }\n",
       "\n",
       "    .dataframe thead th {\n",
       "        text-align: right;\n",
       "    }\n",
       "</style>\n",
       "<table border=\"1\" class=\"dataframe\">\n",
       "  <thead>\n",
       "    <tr style=\"text-align: right;\">\n",
       "      <th></th>\n",
       "      <th>session_id</th>\n",
       "      <th>index</th>\n",
       "      <th>elapsed_time</th>\n",
       "      <th>event_name</th>\n",
       "      <th>name</th>\n",
       "      <th>level</th>\n",
       "      <th>page</th>\n",
       "      <th>room_coor_x</th>\n",
       "      <th>room_coor_y</th>\n",
       "      <th>screen_coor_x</th>\n",
       "      <th>screen_coor_y</th>\n",
       "      <th>hover_duration</th>\n",
       "      <th>text</th>\n",
       "      <th>fqid</th>\n",
       "      <th>room_fqid</th>\n",
       "      <th>text_fqid</th>\n",
       "      <th>fullscreen</th>\n",
       "      <th>hq</th>\n",
       "      <th>music</th>\n",
       "      <th>level_group</th>\n",
       "    </tr>\n",
       "  </thead>\n",
       "  <tbody>\n",
       "    <tr>\n",
       "      <th>0</th>\n",
       "      <td>20090312431273200</td>\n",
       "      <td>0</td>\n",
       "      <td>0</td>\n",
       "      <td>cutscene_click</td>\n",
       "      <td>basic</td>\n",
       "      <td>0</td>\n",
       "      <td>NaN</td>\n",
       "      <td>-413.991405</td>\n",
       "      <td>-159.314686</td>\n",
       "      <td>380.0</td>\n",
       "      <td>494.0</td>\n",
       "      <td>NaN</td>\n",
       "      <td>undefined</td>\n",
       "      <td>intro</td>\n",
       "      <td>tunic.historicalsociety.closet</td>\n",
       "      <td>tunic.historicalsociety.closet.intro</td>\n",
       "      <td>NaN</td>\n",
       "      <td>NaN</td>\n",
       "      <td>NaN</td>\n",
       "      <td>0-4</td>\n",
       "    </tr>\n",
       "    <tr>\n",
       "      <th>2</th>\n",
       "      <td>20090312431273200</td>\n",
       "      <td>2</td>\n",
       "      <td>831</td>\n",
       "      <td>person_click</td>\n",
       "      <td>basic</td>\n",
       "      <td>0</td>\n",
       "      <td>NaN</td>\n",
       "      <td>-413.991405</td>\n",
       "      <td>-159.314686</td>\n",
       "      <td>380.0</td>\n",
       "      <td>494.0</td>\n",
       "      <td>NaN</td>\n",
       "      <td>Just talking to Teddy.</td>\n",
       "      <td>gramps</td>\n",
       "      <td>tunic.historicalsociety.closet</td>\n",
       "      <td>tunic.historicalsociety.closet.gramps.intro_0_...</td>\n",
       "      <td>NaN</td>\n",
       "      <td>NaN</td>\n",
       "      <td>NaN</td>\n",
       "      <td>0-4</td>\n",
       "    </tr>\n",
       "    <tr>\n",
       "      <th>3</th>\n",
       "      <td>20090312431273200</td>\n",
       "      <td>3</td>\n",
       "      <td>1147</td>\n",
       "      <td>person_click</td>\n",
       "      <td>basic</td>\n",
       "      <td>0</td>\n",
       "      <td>NaN</td>\n",
       "      <td>-413.991405</td>\n",
       "      <td>-159.314686</td>\n",
       "      <td>380.0</td>\n",
       "      <td>494.0</td>\n",
       "      <td>NaN</td>\n",
       "      <td>I gotta run to my meeting!</td>\n",
       "      <td>gramps</td>\n",
       "      <td>tunic.historicalsociety.closet</td>\n",
       "      <td>tunic.historicalsociety.closet.gramps.intro_0_...</td>\n",
       "      <td>NaN</td>\n",
       "      <td>NaN</td>\n",
       "      <td>NaN</td>\n",
       "      <td>0-4</td>\n",
       "    </tr>\n",
       "    <tr>\n",
       "      <th>1</th>\n",
       "      <td>20090312431273200</td>\n",
       "      <td>1</td>\n",
       "      <td>1323</td>\n",
       "      <td>person_click</td>\n",
       "      <td>basic</td>\n",
       "      <td>0</td>\n",
       "      <td>NaN</td>\n",
       "      <td>-413.991405</td>\n",
       "      <td>-159.314686</td>\n",
       "      <td>380.0</td>\n",
       "      <td>494.0</td>\n",
       "      <td>NaN</td>\n",
       "      <td>Whatcha doing over there, Jo?</td>\n",
       "      <td>gramps</td>\n",
       "      <td>tunic.historicalsociety.closet</td>\n",
       "      <td>tunic.historicalsociety.closet.gramps.intro_0_...</td>\n",
       "      <td>NaN</td>\n",
       "      <td>NaN</td>\n",
       "      <td>NaN</td>\n",
       "      <td>0-4</td>\n",
       "    </tr>\n",
       "    <tr>\n",
       "      <th>4</th>\n",
       "      <td>20090312431273200</td>\n",
       "      <td>4</td>\n",
       "      <td>1863</td>\n",
       "      <td>person_click</td>\n",
       "      <td>basic</td>\n",
       "      <td>0</td>\n",
       "      <td>NaN</td>\n",
       "      <td>-412.991405</td>\n",
       "      <td>-159.314686</td>\n",
       "      <td>381.0</td>\n",
       "      <td>494.0</td>\n",
       "      <td>NaN</td>\n",
       "      <td>Can I come, Gramps?</td>\n",
       "      <td>gramps</td>\n",
       "      <td>tunic.historicalsociety.closet</td>\n",
       "      <td>tunic.historicalsociety.closet.gramps.intro_0_...</td>\n",
       "      <td>NaN</td>\n",
       "      <td>NaN</td>\n",
       "      <td>NaN</td>\n",
       "      <td>0-4</td>\n",
       "    </tr>\n",
       "    <tr>\n",
       "      <th>...</th>\n",
       "      <td>...</td>\n",
       "      <td>...</td>\n",
       "      <td>...</td>\n",
       "      <td>...</td>\n",
       "      <td>...</td>\n",
       "      <td>...</td>\n",
       "      <td>...</td>\n",
       "      <td>...</td>\n",
       "      <td>...</td>\n",
       "      <td>...</td>\n",
       "      <td>...</td>\n",
       "      <td>...</td>\n",
       "      <td>...</td>\n",
       "      <td>...</td>\n",
       "      <td>...</td>\n",
       "      <td>...</td>\n",
       "      <td>...</td>\n",
       "      <td>...</td>\n",
       "      <td>...</td>\n",
       "      <td>...</td>\n",
       "    </tr>\n",
       "    <tr>\n",
       "      <th>95</th>\n",
       "      <td>20090312431273200</td>\n",
       "      <td>95</td>\n",
       "      <td>98859</td>\n",
       "      <td>person_click</td>\n",
       "      <td>basic</td>\n",
       "      <td>2</td>\n",
       "      <td>NaN</td>\n",
       "      <td>277.753433</td>\n",
       "      <td>-166.585120</td>\n",
       "      <td>613.0</td>\n",
       "      <td>444.0</td>\n",
       "      <td>NaN</td>\n",
       "      <td>Could be. But we need evidence!</td>\n",
       "      <td>gramps</td>\n",
       "      <td>tunic.historicalsociety.collection</td>\n",
       "      <td>tunic.historicalsociety.collection.gramps.found</td>\n",
       "      <td>NaN</td>\n",
       "      <td>NaN</td>\n",
       "      <td>NaN</td>\n",
       "      <td>0-4</td>\n",
       "    </tr>\n",
       "    <tr>\n",
       "      <th>96</th>\n",
       "      <td>20090312431273200</td>\n",
       "      <td>96</td>\n",
       "      <td>99459</td>\n",
       "      <td>person_click</td>\n",
       "      <td>basic</td>\n",
       "      <td>2</td>\n",
       "      <td>NaN</td>\n",
       "      <td>368.432843</td>\n",
       "      <td>-176.661681</td>\n",
       "      <td>676.0</td>\n",
       "      <td>451.0</td>\n",
       "      <td>NaN</td>\n",
       "      <td>Why don't you head to the Basketball Center an...</td>\n",
       "      <td>gramps</td>\n",
       "      <td>tunic.historicalsociety.collection</td>\n",
       "      <td>tunic.historicalsociety.collection.gramps.found</td>\n",
       "      <td>NaN</td>\n",
       "      <td>NaN</td>\n",
       "      <td>NaN</td>\n",
       "      <td>0-4</td>\n",
       "    </tr>\n",
       "    <tr>\n",
       "      <th>97</th>\n",
       "      <td>20090312431273200</td>\n",
       "      <td>97</td>\n",
       "      <td>99958</td>\n",
       "      <td>person_click</td>\n",
       "      <td>basic</td>\n",
       "      <td>2</td>\n",
       "      <td>NaN</td>\n",
       "      <td>368.432120</td>\n",
       "      <td>-176.661922</td>\n",
       "      <td>676.0</td>\n",
       "      <td>451.0</td>\n",
       "      <td>NaN</td>\n",
       "      <td>Sure!</td>\n",
       "      <td>gramps</td>\n",
       "      <td>tunic.historicalsociety.collection</td>\n",
       "      <td>tunic.historicalsociety.collection.gramps.found</td>\n",
       "      <td>NaN</td>\n",
       "      <td>NaN</td>\n",
       "      <td>NaN</td>\n",
       "      <td>0-4</td>\n",
       "    </tr>\n",
       "    <tr>\n",
       "      <th>98</th>\n",
       "      <td>20090312431273200</td>\n",
       "      <td>98</td>\n",
       "      <td>100713</td>\n",
       "      <td>person_click</td>\n",
       "      <td>basic</td>\n",
       "      <td>2</td>\n",
       "      <td>NaN</td>\n",
       "      <td>400.098469</td>\n",
       "      <td>-176.662028</td>\n",
       "      <td>698.0</td>\n",
       "      <td>451.0</td>\n",
       "      <td>NaN</td>\n",
       "      <td>I'll be at the Capitol. Let me know if you fin...</td>\n",
       "      <td>gramps</td>\n",
       "      <td>tunic.historicalsociety.collection</td>\n",
       "      <td>tunic.historicalsociety.collection.gramps.found</td>\n",
       "      <td>NaN</td>\n",
       "      <td>NaN</td>\n",
       "      <td>NaN</td>\n",
       "      <td>0-4</td>\n",
       "    </tr>\n",
       "    <tr>\n",
       "      <th>99</th>\n",
       "      <td>20090312431273200</td>\n",
       "      <td>99</td>\n",
       "      <td>101042</td>\n",
       "      <td>navigate_click</td>\n",
       "      <td>undefined</td>\n",
       "      <td>3</td>\n",
       "      <td>NaN</td>\n",
       "      <td>400.098371</td>\n",
       "      <td>-175.222667</td>\n",
       "      <td>698.0</td>\n",
       "      <td>450.0</td>\n",
       "      <td>NaN</td>\n",
       "      <td>NaN</td>\n",
       "      <td>NaN</td>\n",
       "      <td>tunic.historicalsociety.collection</td>\n",
       "      <td>NaN</td>\n",
       "      <td>NaN</td>\n",
       "      <td>NaN</td>\n",
       "      <td>NaN</td>\n",
       "      <td>0-4</td>\n",
       "    </tr>\n",
       "  </tbody>\n",
       "</table>\n",
       "<p>100 rows × 20 columns</p>\n",
       "</div>"
      ],
      "text/plain": [
       "           session_id  index  elapsed_time      event_name       name  level  \\\n",
       "0   20090312431273200      0             0  cutscene_click      basic      0   \n",
       "2   20090312431273200      2           831    person_click      basic      0   \n",
       "3   20090312431273200      3          1147    person_click      basic      0   \n",
       "1   20090312431273200      1          1323    person_click      basic      0   \n",
       "4   20090312431273200      4          1863    person_click      basic      0   \n",
       "..                ...    ...           ...             ...        ...    ...   \n",
       "95  20090312431273200     95         98859    person_click      basic      2   \n",
       "96  20090312431273200     96         99459    person_click      basic      2   \n",
       "97  20090312431273200     97         99958    person_click      basic      2   \n",
       "98  20090312431273200     98        100713    person_click      basic      2   \n",
       "99  20090312431273200     99        101042  navigate_click  undefined      3   \n",
       "\n",
       "    page  room_coor_x  room_coor_y  screen_coor_x  screen_coor_y  \\\n",
       "0    NaN  -413.991405  -159.314686          380.0          494.0   \n",
       "2    NaN  -413.991405  -159.314686          380.0          494.0   \n",
       "3    NaN  -413.991405  -159.314686          380.0          494.0   \n",
       "1    NaN  -413.991405  -159.314686          380.0          494.0   \n",
       "4    NaN  -412.991405  -159.314686          381.0          494.0   \n",
       "..   ...          ...          ...            ...            ...   \n",
       "95   NaN   277.753433  -166.585120          613.0          444.0   \n",
       "96   NaN   368.432843  -176.661681          676.0          451.0   \n",
       "97   NaN   368.432120  -176.661922          676.0          451.0   \n",
       "98   NaN   400.098469  -176.662028          698.0          451.0   \n",
       "99   NaN   400.098371  -175.222667          698.0          450.0   \n",
       "\n",
       "    hover_duration                                               text    fqid  \\\n",
       "0              NaN                                          undefined   intro   \n",
       "2              NaN                             Just talking to Teddy.  gramps   \n",
       "3              NaN                         I gotta run to my meeting!  gramps   \n",
       "1              NaN                      Whatcha doing over there, Jo?  gramps   \n",
       "4              NaN                                Can I come, Gramps?  gramps   \n",
       "..             ...                                                ...     ...   \n",
       "95             NaN                    Could be. But we need evidence!  gramps   \n",
       "96             NaN  Why don't you head to the Basketball Center an...  gramps   \n",
       "97             NaN                                              Sure!  gramps   \n",
       "98             NaN  I'll be at the Capitol. Let me know if you fin...  gramps   \n",
       "99             NaN                                                NaN     NaN   \n",
       "\n",
       "                             room_fqid  \\\n",
       "0       tunic.historicalsociety.closet   \n",
       "2       tunic.historicalsociety.closet   \n",
       "3       tunic.historicalsociety.closet   \n",
       "1       tunic.historicalsociety.closet   \n",
       "4       tunic.historicalsociety.closet   \n",
       "..                                 ...   \n",
       "95  tunic.historicalsociety.collection   \n",
       "96  tunic.historicalsociety.collection   \n",
       "97  tunic.historicalsociety.collection   \n",
       "98  tunic.historicalsociety.collection   \n",
       "99  tunic.historicalsociety.collection   \n",
       "\n",
       "                                            text_fqid  fullscreen  hq  music  \\\n",
       "0                tunic.historicalsociety.closet.intro         NaN NaN    NaN   \n",
       "2   tunic.historicalsociety.closet.gramps.intro_0_...         NaN NaN    NaN   \n",
       "3   tunic.historicalsociety.closet.gramps.intro_0_...         NaN NaN    NaN   \n",
       "1   tunic.historicalsociety.closet.gramps.intro_0_...         NaN NaN    NaN   \n",
       "4   tunic.historicalsociety.closet.gramps.intro_0_...         NaN NaN    NaN   \n",
       "..                                                ...         ...  ..    ...   \n",
       "95    tunic.historicalsociety.collection.gramps.found         NaN NaN    NaN   \n",
       "96    tunic.historicalsociety.collection.gramps.found         NaN NaN    NaN   \n",
       "97    tunic.historicalsociety.collection.gramps.found         NaN NaN    NaN   \n",
       "98    tunic.historicalsociety.collection.gramps.found         NaN NaN    NaN   \n",
       "99                                                NaN         NaN NaN    NaN   \n",
       "\n",
       "   level_group  \n",
       "0          0-4  \n",
       "2          0-4  \n",
       "3          0-4  \n",
       "1          0-4  \n",
       "4          0-4  \n",
       "..         ...  \n",
       "95         0-4  \n",
       "96         0-4  \n",
       "97         0-4  \n",
       "98         0-4  \n",
       "99         0-4  \n",
       "\n",
       "[100 rows x 20 columns]"
      ]
     },
     "execution_count": 7,
     "metadata": {},
     "output_type": "execute_result"
    }
   ],
   "source": [
    "train_df[:100]"
   ]
  },
  {
   "cell_type": "code",
   "execution_count": 8,
   "id": "1c1bd328",
   "metadata": {
    "execution": {
     "iopub.execute_input": "2023-02-19T13:35:41.412860Z",
     "iopub.status.busy": "2023-02-19T13:35:41.412466Z",
     "iopub.status.idle": "2023-02-19T13:35:48.149176Z",
     "shell.execute_reply": "2023-02-19T13:35:48.147940Z"
    },
    "papermill": {
     "duration": 6.75116,
     "end_time": "2023-02-19T13:35:48.151651",
     "exception": false,
     "start_time": "2023-02-19T13:35:41.400491",
     "status": "completed"
    },
    "tags": []
   },
   "outputs": [
    {
     "data": {
      "text/html": [
       "<div>\n",
       "<style scoped>\n",
       "    .dataframe tbody tr th:only-of-type {\n",
       "        vertical-align: middle;\n",
       "    }\n",
       "\n",
       "    .dataframe tbody tr th {\n",
       "        vertical-align: top;\n",
       "    }\n",
       "\n",
       "    .dataframe thead th {\n",
       "        text-align: right;\n",
       "    }\n",
       "</style>\n",
       "<table border=\"1\" class=\"dataframe\">\n",
       "  <thead>\n",
       "    <tr style=\"text-align: right;\">\n",
       "      <th></th>\n",
       "      <th>session_id</th>\n",
       "      <th>index</th>\n",
       "      <th>elapsed_time</th>\n",
       "      <th>level</th>\n",
       "      <th>page</th>\n",
       "      <th>room_coor_x</th>\n",
       "      <th>room_coor_y</th>\n",
       "      <th>screen_coor_x</th>\n",
       "      <th>screen_coor_y</th>\n",
       "      <th>hover_duration</th>\n",
       "      <th>fullscreen</th>\n",
       "      <th>hq</th>\n",
       "      <th>music</th>\n",
       "    </tr>\n",
       "  </thead>\n",
       "  <tbody>\n",
       "    <tr>\n",
       "      <th>count</th>\n",
       "      <td>1.317421e+07</td>\n",
       "      <td>1.317421e+07</td>\n",
       "      <td>1.317421e+07</td>\n",
       "      <td>1.317421e+07</td>\n",
       "      <td>284746.000000</td>\n",
       "      <td>1.213797e+07</td>\n",
       "      <td>1.213797e+07</td>\n",
       "      <td>1.213797e+07</td>\n",
       "      <td>1.213797e+07</td>\n",
       "      <td>1.000737e+06</td>\n",
       "      <td>0.0</td>\n",
       "      <td>0.0</td>\n",
       "      <td>0.0</td>\n",
       "    </tr>\n",
       "    <tr>\n",
       "      <th>mean</th>\n",
       "      <td>2.113413e+16</td>\n",
       "      <td>6.526426e+02</td>\n",
       "      <td>3.846817e+06</td>\n",
       "      <td>1.219194e+01</td>\n",
       "      <td>3.157930</td>\n",
       "      <td>-5.493615e+01</td>\n",
       "      <td>-1.162997e+02</td>\n",
       "      <td>4.581144e+02</td>\n",
       "      <td>3.852363e+02</td>\n",
       "      <td>3.186237e+03</td>\n",
       "      <td>NaN</td>\n",
       "      <td>NaN</td>\n",
       "      <td>NaN</td>\n",
       "    </tr>\n",
       "    <tr>\n",
       "      <th>std</th>\n",
       "      <td>5.665220e+14</td>\n",
       "      <td>6.275818e+02</td>\n",
       "      <td>2.701387e+07</td>\n",
       "      <td>6.499188e+00</td>\n",
       "      <td>2.064042</td>\n",
       "      <td>5.201468e+02</td>\n",
       "      <td>2.185912e+02</td>\n",
       "      <td>2.472144e+02</td>\n",
       "      <td>1.292879e+02</td>\n",
       "      <td>3.692265e+05</td>\n",
       "      <td>NaN</td>\n",
       "      <td>NaN</td>\n",
       "      <td>NaN</td>\n",
       "    </tr>\n",
       "    <tr>\n",
       "      <th>min</th>\n",
       "      <td>2.009031e+16</td>\n",
       "      <td>0.000000e+00</td>\n",
       "      <td>0.000000e+00</td>\n",
       "      <td>0.000000e+00</td>\n",
       "      <td>0.000000</td>\n",
       "      <td>-1.992355e+03</td>\n",
       "      <td>-9.181587e+02</td>\n",
       "      <td>0.000000e+00</td>\n",
       "      <td>0.000000e+00</td>\n",
       "      <td>0.000000e+00</td>\n",
       "      <td>NaN</td>\n",
       "      <td>NaN</td>\n",
       "      <td>NaN</td>\n",
       "    </tr>\n",
       "    <tr>\n",
       "      <th>25%</th>\n",
       "      <td>2.101031e+16</td>\n",
       "      <td>2.890000e+02</td>\n",
       "      <td>4.394300e+05</td>\n",
       "      <td>6.000000e+00</td>\n",
       "      <td>1.000000</td>\n",
       "      <td>-3.529376e+02</td>\n",
       "      <td>-2.128361e+02</td>\n",
       "      <td>2.690000e+02</td>\n",
       "      <td>3.040000e+02</td>\n",
       "      <td>1.000000e+02</td>\n",
       "      <td>NaN</td>\n",
       "      <td>NaN</td>\n",
       "      <td>NaN</td>\n",
       "    </tr>\n",
       "    <tr>\n",
       "      <th>50%</th>\n",
       "      <td>2.104022e+16</td>\n",
       "      <td>5.960000e+02</td>\n",
       "      <td>1.013425e+06</td>\n",
       "      <td>1.300000e+01</td>\n",
       "      <td>3.000000</td>\n",
       "      <td>-1.116317e+01</td>\n",
       "      <td>-9.778151e+01</td>\n",
       "      <td>4.470000e+02</td>\n",
       "      <td>3.970000e+02</td>\n",
       "      <td>4.180000e+02</td>\n",
       "      <td>NaN</td>\n",
       "      <td>NaN</td>\n",
       "      <td>NaN</td>\n",
       "    </tr>\n",
       "    <tr>\n",
       "      <th>75%</th>\n",
       "      <td>2.110051e+16</td>\n",
       "      <td>8.970000e+02</td>\n",
       "      <td>1.740050e+06</td>\n",
       "      <td>1.800000e+01</td>\n",
       "      <td>5.000000</td>\n",
       "      <td>2.963618e+02</td>\n",
       "      <td>2.268531e+01</td>\n",
       "      <td>6.630000e+02</td>\n",
       "      <td>4.710000e+02</td>\n",
       "      <td>1.266000e+03</td>\n",
       "      <td>NaN</td>\n",
       "      <td>NaN</td>\n",
       "      <td>NaN</td>\n",
       "    </tr>\n",
       "    <tr>\n",
       "      <th>max</th>\n",
       "      <td>2.210022e+16</td>\n",
       "      <td>2.047300e+04</td>\n",
       "      <td>1.749293e+09</td>\n",
       "      <td>2.200000e+01</td>\n",
       "      <td>6.000000</td>\n",
       "      <td>1.261774e+03</td>\n",
       "      <td>5.436164e+02</td>\n",
       "      <td>1.916000e+03</td>\n",
       "      <td>1.439000e+03</td>\n",
       "      <td>2.199078e+08</td>\n",
       "      <td>NaN</td>\n",
       "      <td>NaN</td>\n",
       "      <td>NaN</td>\n",
       "    </tr>\n",
       "  </tbody>\n",
       "</table>\n",
       "</div>"
      ],
      "text/plain": [
       "         session_id         index  elapsed_time         level           page  \\\n",
       "count  1.317421e+07  1.317421e+07  1.317421e+07  1.317421e+07  284746.000000   \n",
       "mean   2.113413e+16  6.526426e+02  3.846817e+06  1.219194e+01       3.157930   \n",
       "std    5.665220e+14  6.275818e+02  2.701387e+07  6.499188e+00       2.064042   \n",
       "min    2.009031e+16  0.000000e+00  0.000000e+00  0.000000e+00       0.000000   \n",
       "25%    2.101031e+16  2.890000e+02  4.394300e+05  6.000000e+00       1.000000   \n",
       "50%    2.104022e+16  5.960000e+02  1.013425e+06  1.300000e+01       3.000000   \n",
       "75%    2.110051e+16  8.970000e+02  1.740050e+06  1.800000e+01       5.000000   \n",
       "max    2.210022e+16  2.047300e+04  1.749293e+09  2.200000e+01       6.000000   \n",
       "\n",
       "        room_coor_x   room_coor_y  screen_coor_x  screen_coor_y  \\\n",
       "count  1.213797e+07  1.213797e+07   1.213797e+07   1.213797e+07   \n",
       "mean  -5.493615e+01 -1.162997e+02   4.581144e+02   3.852363e+02   \n",
       "std    5.201468e+02  2.185912e+02   2.472144e+02   1.292879e+02   \n",
       "min   -1.992355e+03 -9.181587e+02   0.000000e+00   0.000000e+00   \n",
       "25%   -3.529376e+02 -2.128361e+02   2.690000e+02   3.040000e+02   \n",
       "50%   -1.116317e+01 -9.778151e+01   4.470000e+02   3.970000e+02   \n",
       "75%    2.963618e+02  2.268531e+01   6.630000e+02   4.710000e+02   \n",
       "max    1.261774e+03  5.436164e+02   1.916000e+03   1.439000e+03   \n",
       "\n",
       "       hover_duration  fullscreen   hq  music  \n",
       "count    1.000737e+06         0.0  0.0    0.0  \n",
       "mean     3.186237e+03         NaN  NaN    NaN  \n",
       "std      3.692265e+05         NaN  NaN    NaN  \n",
       "min      0.000000e+00         NaN  NaN    NaN  \n",
       "25%      1.000000e+02         NaN  NaN    NaN  \n",
       "50%      4.180000e+02         NaN  NaN    NaN  \n",
       "75%      1.266000e+03         NaN  NaN    NaN  \n",
       "max      2.199078e+08         NaN  NaN    NaN  "
      ]
     },
     "execution_count": 8,
     "metadata": {},
     "output_type": "execute_result"
    }
   ],
   "source": [
    "train_df.describe()"
   ]
  },
  {
   "cell_type": "markdown",
   "id": "c5a90fc6",
   "metadata": {
    "papermill": {
     "duration": 0.010062,
     "end_time": "2023-02-19T13:35:48.172197",
     "exception": false,
     "start_time": "2023-02-19T13:35:48.162135",
     "status": "completed"
    },
    "tags": []
   },
   "source": [
    "> Data Types of each Column"
   ]
  },
  {
   "cell_type": "code",
   "execution_count": 9,
   "id": "e4d507e5",
   "metadata": {
    "execution": {
     "iopub.execute_input": "2023-02-19T13:35:48.194678Z",
     "iopub.status.busy": "2023-02-19T13:35:48.193925Z",
     "iopub.status.idle": "2023-02-19T13:35:48.200812Z",
     "shell.execute_reply": "2023-02-19T13:35:48.199748Z"
    },
    "papermill": {
     "duration": 0.021343,
     "end_time": "2023-02-19T13:35:48.203654",
     "exception": false,
     "start_time": "2023-02-19T13:35:48.182311",
     "status": "completed"
    },
    "tags": []
   },
   "outputs": [
    {
     "name": "stdout",
     "output_type": "stream",
     "text": [
      "session_id          int64\n",
      "index               int64\n",
      "elapsed_time        int64\n",
      "event_name         object\n",
      "name               object\n",
      "level               int64\n",
      "page              float64\n",
      "room_coor_x       float64\n",
      "room_coor_y       float64\n",
      "screen_coor_x     float64\n",
      "screen_coor_y     float64\n",
      "hover_duration    float64\n",
      "text               object\n",
      "fqid               object\n",
      "room_fqid          object\n",
      "text_fqid          object\n",
      "fullscreen        float64\n",
      "hq                float64\n",
      "music             float64\n",
      "level_group        object\n",
      "dtype: object\n"
     ]
    }
   ],
   "source": [
    "print(train_df.dtypes)"
   ]
  },
  {
   "cell_type": "markdown",
   "id": "8d84775c",
   "metadata": {
    "papermill": {
     "duration": 0.010236,
     "end_time": "2023-02-19T13:35:48.224247",
     "exception": false,
     "start_time": "2023-02-19T13:35:48.214011",
     "status": "completed"
    },
    "tags": []
   },
   "source": [
    "> Number of Rows and Columns in the dataset"
   ]
  },
  {
   "cell_type": "code",
   "execution_count": 10,
   "id": "afad41f2",
   "metadata": {
    "execution": {
     "iopub.execute_input": "2023-02-19T13:35:48.246971Z",
     "iopub.status.busy": "2023-02-19T13:35:48.246257Z",
     "iopub.status.idle": "2023-02-19T13:35:48.252578Z",
     "shell.execute_reply": "2023-02-19T13:35:48.251411Z"
    },
    "papermill": {
     "duration": 0.02059,
     "end_time": "2023-02-19T13:35:48.255181",
     "exception": false,
     "start_time": "2023-02-19T13:35:48.234591",
     "status": "completed"
    },
    "tags": []
   },
   "outputs": [
    {
     "name": "stdout",
     "output_type": "stream",
     "text": [
      "Training Data Rows and Columns Information \n",
      "Number of Rows: 13174211\n",
      "Number of Columns: 20\n"
     ]
    }
   ],
   "source": [
    "no_rows, no_columns = train_df.shape\n",
    "print(f\"Training Data Rows and Columns Information \\nNumber of Rows: {no_rows}\\nNumber of Columns: {no_columns}\")"
   ]
  },
  {
   "cell_type": "markdown",
   "id": "9def843a",
   "metadata": {
    "papermill": {
     "duration": 0.01039,
     "end_time": "2023-02-19T13:35:48.276065",
     "exception": false,
     "start_time": "2023-02-19T13:35:48.265675",
     "status": "completed"
    },
    "tags": []
   },
   "source": [
    "> The train.csv file is more than 2 GB, so this is a quite big dataset.\n",
    "> There are 13174211 rows, and 20 columns"
   ]
  },
  {
   "cell_type": "code",
   "execution_count": 11,
   "id": "08d49cc8",
   "metadata": {
    "execution": {
     "iopub.execute_input": "2023-02-19T13:35:48.298776Z",
     "iopub.status.busy": "2023-02-19T13:35:48.298023Z",
     "iopub.status.idle": "2023-02-19T13:35:48.313846Z",
     "shell.execute_reply": "2023-02-19T13:35:48.312770Z"
    },
    "papermill": {
     "duration": 0.030779,
     "end_time": "2023-02-19T13:35:48.317186",
     "exception": false,
     "start_time": "2023-02-19T13:35:48.286407",
     "status": "completed"
    },
    "tags": []
   },
   "outputs": [
    {
     "name": "stdout",
     "output_type": "stream",
     "text": [
      "Data Type Information about Training Data\n",
      "<class 'pandas.core.frame.DataFrame'>\n",
      "Int64Index: 13174211 entries, 0 to 13174210\n",
      "Data columns (total 20 columns):\n",
      " #   Column          Dtype  \n",
      "---  ------          -----  \n",
      " 0   session_id      int64  \n",
      " 1   index           int64  \n",
      " 2   elapsed_time    int64  \n",
      " 3   event_name      object \n",
      " 4   name            object \n",
      " 5   level           int64  \n",
      " 6   page            float64\n",
      " 7   room_coor_x     float64\n",
      " 8   room_coor_y     float64\n",
      " 9   screen_coor_x   float64\n",
      " 10  screen_coor_y   float64\n",
      " 11  hover_duration  float64\n",
      " 12  text            object \n",
      " 13  fqid            object \n",
      " 14  room_fqid       object \n",
      " 15  text_fqid       object \n",
      " 16  fullscreen      float64\n",
      " 17  hq              float64\n",
      " 18  music           float64\n",
      " 19  level_group     object \n",
      "dtypes: float64(9), int64(4), object(7)\n",
      "memory usage: 2.1+ GB\n",
      "None\n"
     ]
    }
   ],
   "source": [
    "print(\"Data Type Information about Training Data\")\n",
    "print(train_df.info())"
   ]
  },
  {
   "cell_type": "code",
   "execution_count": 12,
   "id": "d43a97f9",
   "metadata": {
    "execution": {
     "iopub.execute_input": "2023-02-19T13:35:48.342507Z",
     "iopub.status.busy": "2023-02-19T13:35:48.341820Z",
     "iopub.status.idle": "2023-02-19T13:35:48.346710Z",
     "shell.execute_reply": "2023-02-19T13:35:48.345936Z"
    },
    "papermill": {
     "duration": 0.020433,
     "end_time": "2023-02-19T13:35:48.349938",
     "exception": false,
     "start_time": "2023-02-19T13:35:48.329505",
     "status": "completed"
    },
    "tags": []
   },
   "outputs": [
    {
     "name": "stdout",
     "output_type": "stream",
     "text": [
      "13174211\n",
      "20\n"
     ]
    }
   ],
   "source": [
    "print(train_df.shape[0])\n",
    "print(train_df.shape[1])"
   ]
  },
  {
   "cell_type": "code",
   "execution_count": 13,
   "id": "f0ae99db",
   "metadata": {
    "execution": {
     "iopub.execute_input": "2023-02-19T13:35:48.375110Z",
     "iopub.status.busy": "2023-02-19T13:35:48.374384Z",
     "iopub.status.idle": "2023-02-19T13:35:52.626556Z",
     "shell.execute_reply": "2023-02-19T13:35:52.624801Z"
    },
    "papermill": {
     "duration": 4.267114,
     "end_time": "2023-02-19T13:35:52.629167",
     "exception": false,
     "start_time": "2023-02-19T13:35:48.362053",
     "status": "completed"
    },
    "tags": []
   },
   "outputs": [
    {
     "name": "stdout",
     "output_type": "stream",
     "text": [
      "nan values in Training Data session_id               0\n",
      "room_fqid                0\n",
      "level                    0\n",
      "name                     0\n",
      "level_group              0\n",
      "elapsed_time             0\n",
      "index                    0\n",
      "event_name               0\n",
      "room_coor_x        1036240\n",
      "room_coor_y        1036240\n",
      "screen_coor_y      1036240\n",
      "screen_coor_x      1036240\n",
      "fqid               4159648\n",
      "text_fqid          8367266\n",
      "text               8367320\n",
      "hover_duration    12173474\n",
      "page              12889465\n",
      "music             13174211\n",
      "fullscreen        13174211\n",
      "hq                13174211\n",
      "dtype: int64\n"
     ]
    }
   ],
   "source": [
    "print(\"nan values in Training Data\", train_df.isna().sum().sort_values(ascending=True))"
   ]
  },
  {
   "cell_type": "markdown",
   "id": "d53c1596",
   "metadata": {
    "papermill": {
     "duration": 0.011296,
     "end_time": "2023-02-19T13:35:52.651702",
     "exception": false,
     "start_time": "2023-02-19T13:35:52.640406",
     "status": "completed"
    },
    "tags": []
   },
   "source": [
    "> There are huge number of nan values in the dataset. Column Music, Fullscreen, and Hq have more than 13 million nan values, whereas column Hover Duration and Page have more than 12 million nan values."
   ]
  },
  {
   "cell_type": "code",
   "execution_count": 14,
   "id": "b77d9745",
   "metadata": {
    "execution": {
     "iopub.execute_input": "2023-02-19T13:35:52.675205Z",
     "iopub.status.busy": "2023-02-19T13:35:52.674790Z",
     "iopub.status.idle": "2023-02-19T13:35:56.959666Z",
     "shell.execute_reply": "2023-02-19T13:35:56.958264Z"
    },
    "papermill": {
     "duration": 4.300222,
     "end_time": "2023-02-19T13:35:56.962786",
     "exception": false,
     "start_time": "2023-02-19T13:35:52.662564",
     "status": "completed"
    },
    "tags": []
   },
   "outputs": [
    {
     "name": "stdout",
     "output_type": "stream",
     "text": [
      "null Values in Training Data session_id               0\n",
      "room_fqid                0\n",
      "level                    0\n",
      "name                     0\n",
      "level_group              0\n",
      "elapsed_time             0\n",
      "index                    0\n",
      "event_name               0\n",
      "room_coor_x        1036240\n",
      "room_coor_y        1036240\n",
      "screen_coor_y      1036240\n",
      "screen_coor_x      1036240\n",
      "fqid               4159648\n",
      "text_fqid          8367266\n",
      "text               8367320\n",
      "hover_duration    12173474\n",
      "page              12889465\n",
      "music             13174211\n",
      "fullscreen        13174211\n",
      "hq                13174211\n",
      "dtype: int64\n"
     ]
    }
   ],
   "source": [
    "print(\"null Values in Training Data\", train_df.isnull().sum().sort_values(ascending=True))"
   ]
  },
  {
   "cell_type": "markdown",
   "id": "8a7d4f98",
   "metadata": {
    "papermill": {
     "duration": 0.011779,
     "end_time": "2023-02-19T13:35:56.986025",
     "exception": false,
     "start_time": "2023-02-19T13:35:56.974246",
     "status": "completed"
    },
    "tags": []
   },
   "source": [
    "> Missing data, or missing values, occur when no data value is stored for the variable in an observation. Missing data are a common occurrence and can have a significant effect on the conclusions that can be drawn from the data."
   ]
  },
  {
   "cell_type": "code",
   "execution_count": 15,
   "id": "cfe39db5",
   "metadata": {
    "execution": {
     "iopub.execute_input": "2023-02-19T13:35:57.010623Z",
     "iopub.status.busy": "2023-02-19T13:35:57.009784Z",
     "iopub.status.idle": "2023-02-19T13:35:58.017469Z",
     "shell.execute_reply": "2023-02-19T13:35:58.015963Z"
    },
    "papermill": {
     "duration": 1.022894,
     "end_time": "2023-02-19T13:35:58.020001",
     "exception": false,
     "start_time": "2023-02-19T13:35:56.997107",
     "status": "completed"
    },
    "tags": []
   },
   "outputs": [
    {
     "name": "stdout",
     "output_type": "stream",
     "text": [
      "All listed Events in Training Data are: ['cutscene_click' 'person_click' 'navigate_click' 'observation_click'\n",
      " 'notification_click' 'object_click' 'object_hover' 'map_hover'\n",
      " 'map_click' 'checkpoint' 'notebook_click']\n"
     ]
    }
   ],
   "source": [
    "events = train_df[\"event_name\"].unique()\n",
    "print(\"All listed Events in Training Data are:\", events)"
   ]
  },
  {
   "cell_type": "markdown",
   "id": "8a316fab",
   "metadata": {
    "papermill": {
     "duration": 0.010802,
     "end_time": "2023-02-19T13:35:58.041938",
     "exception": false,
     "start_time": "2023-02-19T13:35:58.031136",
     "status": "completed"
    },
    "tags": []
   },
   "source": [
    "> The number of unique events in train.csv are 11."
   ]
  },
  {
   "cell_type": "code",
   "execution_count": 16,
   "id": "1e8fb4bc",
   "metadata": {
    "execution": {
     "iopub.execute_input": "2023-02-19T13:35:58.068346Z",
     "iopub.status.busy": "2023-02-19T13:35:58.067153Z",
     "iopub.status.idle": "2023-02-19T13:35:59.182084Z",
     "shell.execute_reply": "2023-02-19T13:35:59.180955Z"
    },
    "papermill": {
     "duration": 1.131887,
     "end_time": "2023-02-19T13:35:59.184719",
     "exception": false,
     "start_time": "2023-02-19T13:35:58.052832",
     "status": "completed"
    },
    "tags": []
   },
   "outputs": [
    {
     "data": {
      "image/png": "[encoded data removed]",
      "text/plain": [
       "<Figure size 640x480 with 1 Axes>"
      ]
     },
     "metadata": {},
     "output_type": "display_data"
    }
   ],
   "source": [
    "eve = train_df[\"event_name\"].value_counts().plot(kind='barh', title = \"Event Names\", color = 'green')\n",
    "eve.set_xlabel(\"Number of Events\")\n",
    "eve.set_ylabel(\"Name of Events\")\n",
    "plt.show()"
   ]
  },
  {
   "cell_type": "code",
   "execution_count": 17,
   "id": "86c9be81",
   "metadata": {
    "execution": {
     "iopub.execute_input": "2023-02-19T13:35:59.210202Z",
     "iopub.status.busy": "2023-02-19T13:35:59.209778Z",
     "iopub.status.idle": "2023-02-19T13:36:00.997576Z",
     "shell.execute_reply": "2023-02-19T13:36:00.996100Z"
    },
    "papermill": {
     "duration": 1.803518,
     "end_time": "2023-02-19T13:36:01.000206",
     "exception": false,
     "start_time": "2023-02-19T13:35:59.196688",
     "status": "completed"
    },
    "tags": []
   },
   "outputs": [
    {
     "name": "stdout",
     "output_type": "stream",
     "text": [
      "Name in Training Data are: ['basic' 'undefined' 'close' 'open' 'prev' 'next']\n",
      "next            5838\n",
      "prev            9834\n",
      "open          118125\n",
      "close         339093\n",
      "basic        6324016\n",
      "undefined    6377305\n",
      "Name: name, dtype: int64\n"
     ]
    }
   ],
   "source": [
    "names = train_df[\"name\"].unique()\n",
    "print(\"Name in Training Data are:\", names)\n",
    "names = train_df[\"name\"].value_counts().sort_values(ascending=True)\n",
    "print(names)"
   ]
  },
  {
   "cell_type": "code",
   "execution_count": 18,
   "id": "acbf4caf",
   "metadata": {
    "execution": {
     "iopub.execute_input": "2023-02-19T13:36:01.026010Z",
     "iopub.status.busy": "2023-02-19T13:36:01.025548Z",
     "iopub.status.idle": "2023-02-19T13:36:02.086311Z",
     "shell.execute_reply": "2023-02-19T13:36:02.085111Z"
    },
    "papermill": {
     "duration": 1.076312,
     "end_time": "2023-02-19T13:36:02.088561",
     "exception": false,
     "start_time": "2023-02-19T13:36:01.012249",
     "status": "completed"
    },
    "tags": []
   },
   "outputs": [
    {
     "data": {
      "image/png": "[encoded data removed]",
      "text/plain": [
       "<Figure size 500x500 with 1 Axes>"
      ]
     },
     "metadata": {},
     "output_type": "display_data"
    }
   ],
   "source": [
    "plt.figure(figsize = (5, 5))\n",
    "eve = train_df[\"name\"].value_counts().plot(kind='bar', title = \"Names\", color = 'orange')\n",
    "eve.set_xlabel(\"Name\")\n",
    "eve.set_ylabel(\"Occurence\")\n",
    "plt.show()"
   ]
  },
  {
   "cell_type": "code",
   "execution_count": 19,
   "id": "dc7ae24b",
   "metadata": {
    "execution": {
     "iopub.execute_input": "2023-02-19T13:36:02.116013Z",
     "iopub.status.busy": "2023-02-19T13:36:02.115570Z",
     "iopub.status.idle": "2023-02-19T13:36:02.305426Z",
     "shell.execute_reply": "2023-02-19T13:36:02.304211Z"
    },
    "papermill": {
     "duration": 0.207018,
     "end_time": "2023-02-19T13:36:02.308448",
     "exception": false,
     "start_time": "2023-02-19T13:36:02.101430",
     "status": "completed"
    },
    "tags": []
   },
   "outputs": [
    {
     "name": "stdout",
     "output_type": "stream",
     "text": [
      "Levels in Training Data are: [ 0  1  2  3  4  5  6  7  8  9 10 11 12 13 14 15 16 17 18 19 20 21 22]\n",
      "12     183800\n",
      "22     212145\n",
      "4      214292\n",
      "10     226174\n",
      "14     272108\n",
      "5      333652\n",
      "0      345275\n",
      "1      364343\n",
      "13     411319\n",
      "8      445325\n",
      "2      495563\n",
      "20     565933\n",
      "9      568681\n",
      "3      575214\n",
      "17     603008\n",
      "19     607286\n",
      "15     611574\n",
      "7      638179\n",
      "16     648472\n",
      "11     972085\n",
      "21    1056593\n",
      "6     1065231\n",
      "18    1757959\n",
      "Name: level, dtype: int64\n"
     ]
    }
   ],
   "source": [
    "lev = train_df[\"level\"].unique()\n",
    "print(\"Levels in Training Data are:\", lev)\n",
    "lev = train_df[\"level\"].value_counts().sort_values(ascending=True)\n",
    "print(lev)"
   ]
  },
  {
   "cell_type": "markdown",
   "id": "42d377f9",
   "metadata": {
    "papermill": {
     "duration": 0.011853,
     "end_time": "2023-02-19T13:36:02.332961",
     "exception": false,
     "start_time": "2023-02-19T13:36:02.321108",
     "status": "completed"
    },
    "tags": []
   },
   "source": [
    "> There are 23 levels in the dataset, that range from 0 to 22"
   ]
  },
  {
   "cell_type": "code",
   "execution_count": 20,
   "id": "162bfc2f",
   "metadata": {
    "execution": {
     "iopub.execute_input": "2023-02-19T13:36:02.359176Z",
     "iopub.status.busy": "2023-02-19T13:36:02.358732Z",
     "iopub.status.idle": "2023-02-19T13:36:02.801757Z",
     "shell.execute_reply": "2023-02-19T13:36:02.800649Z"
    },
    "papermill": {
     "duration": 0.459311,
     "end_time": "2023-02-19T13:36:02.804365",
     "exception": false,
     "start_time": "2023-02-19T13:36:02.345054",
     "status": "completed"
    },
    "tags": []
   },
   "outputs": [
    {
     "data": {
      "image/png": "[encoded data removed]",
      "text/plain": [
       "<Figure size 800x800 with 1 Axes>"
      ]
     },
     "metadata": {},
     "output_type": "display_data"
    }
   ],
   "source": [
    "plt.figure(figsize = (8, 8))\n",
    "lev = train_df[\"level\"].value_counts().plot(kind='barh', title = \"Levels\", color = 'blue')\n",
    "lev.set_xlabel(\"Occurence\")\n",
    "lev.set_ylabel(\"Level\")\n",
    "plt.show()"
   ]
  },
  {
   "cell_type": "code",
   "execution_count": 21,
   "id": "3d4394d4",
   "metadata": {
    "execution": {
     "iopub.execute_input": "2023-02-19T13:36:02.831588Z",
     "iopub.status.busy": "2023-02-19T13:36:02.831190Z",
     "iopub.status.idle": "2023-02-19T13:36:04.520946Z",
     "shell.execute_reply": "2023-02-19T13:36:04.519764Z"
    },
    "papermill": {
     "duration": 1.706993,
     "end_time": "2023-02-19T13:36:04.524091",
     "exception": false,
     "start_time": "2023-02-19T13:36:02.817098",
     "status": "completed"
    },
    "tags": []
   },
   "outputs": [
    {
     "name": "stdout",
     "output_type": "stream",
     "text": [
      "Name in Training Data are: ['0-4' '5-12' '13-22']\n",
      "13-22    6746397\n",
      "5-12     4433127\n",
      "0-4      1994687\n",
      "Name: level_group, dtype: int64\n"
     ]
    }
   ],
   "source": [
    "tim = train_df[\"level_group\"].unique()\n",
    "print(\"Name in Training Data are:\", tim)\n",
    "tim = train_df[\"level_group\"].value_counts()\n",
    "print(tim)"
   ]
  },
  {
   "cell_type": "code",
   "execution_count": 22,
   "id": "7b5573e8",
   "metadata": {
    "execution": {
     "iopub.execute_input": "2023-02-19T13:36:04.552058Z",
     "iopub.status.busy": "2023-02-19T13:36:04.551606Z",
     "iopub.status.idle": "2023-02-19T13:36:05.611327Z",
     "shell.execute_reply": "2023-02-19T13:36:05.609931Z"
    },
    "papermill": {
     "duration": 1.076742,
     "end_time": "2023-02-19T13:36:05.613998",
     "exception": false,
     "start_time": "2023-02-19T13:36:04.537256",
     "status": "completed"
    },
    "tags": []
   },
   "outputs": [
    {
     "data": {
      "image/png": "[encoded data removed]",
      "text/plain": [
       "<Figure size 500x500 with 1 Axes>"
      ]
     },
     "metadata": {},
     "output_type": "display_data"
    }
   ],
   "source": [
    "plt.figure(figsize = (5, 5))\n",
    "plt.style.use('bmh')\n",
    "lev = train_df[\"level_group\"].value_counts().plot(kind='bar', title = \"Level_group\", color = 'red')\n",
    "lev.set_xlabel(\"Level_group\")\n",
    "lev.set_ylabel(\"Occurence\")\n",
    "plt.show()"
   ]
  },
  {
   "cell_type": "code",
   "execution_count": 23,
   "id": "52145337",
   "metadata": {
    "execution": {
     "iopub.execute_input": "2023-02-19T13:36:05.643139Z",
     "iopub.status.busy": "2023-02-19T13:36:05.642714Z",
     "iopub.status.idle": "2023-02-19T13:36:08.259283Z",
     "shell.execute_reply": "2023-02-19T13:36:08.257678Z"
    },
    "papermill": {
     "duration": 2.634159,
     "end_time": "2023-02-19T13:36:08.261964",
     "exception": false,
     "start_time": "2023-02-19T13:36:05.627805",
     "status": "completed"
    },
    "tags": []
   },
   "outputs": [
    {
     "name": "stdout",
     "output_type": "stream",
     "text": [
      "Name in Training Data are: [      0     831    1147 ... 5485166 5486753 5487952]\n",
      "0             11781\n",
      "1                 4\n",
      "2                 4\n",
      "3                 3\n",
      "5                 1\n",
      "              ...  \n",
      "1749287498        1\n",
      "1749289247        1\n",
      "1749291347        1\n",
      "1749292131        1\n",
      "1749293395        1\n",
      "Name: elapsed_time, Length: 3804019, dtype: int64\n"
     ]
    }
   ],
   "source": [
    "f_qid = train_df[\"elapsed_time\"].unique()\n",
    "print(\"Name in Training Data are:\", f_qid)\n",
    "f_qid = train_df[\"elapsed_time\"].value_counts().sort_index(ascending=True)\n",
    "print(f_qid)"
   ]
  },
  {
   "cell_type": "code",
   "execution_count": 24,
   "id": "8666cdc6",
   "metadata": {
    "execution": {
     "iopub.execute_input": "2023-02-19T13:36:08.290584Z",
     "iopub.status.busy": "2023-02-19T13:36:08.290136Z",
     "iopub.status.idle": "2023-02-19T13:36:08.513510Z",
     "shell.execute_reply": "2023-02-19T13:36:08.512196Z"
    },
    "papermill": {
     "duration": 0.240709,
     "end_time": "2023-02-19T13:36:08.516103",
     "exception": false,
     "start_time": "2023-02-19T13:36:08.275394",
     "status": "completed"
    },
    "tags": []
   },
   "outputs": [
    {
     "name": "stdout",
     "output_type": "stream",
     "text": [
      "[[0.00000000e+00 8.39059342e-09 1.15812403e-08 ... 5.53912143e-05\n",
      "  5.53996554e-05 5.54117616e-05]]\n"
     ]
    }
   ],
   "source": [
    "from sklearn import preprocessing\n",
    "\n",
    "normalized_arr = preprocessing.normalize([train_df.elapsed_time])\n",
    "print(normalized_arr)"
   ]
  },
  {
   "cell_type": "code",
   "execution_count": 25,
   "id": "390aeabb",
   "metadata": {
    "execution": {
     "iopub.execute_input": "2023-02-19T13:36:08.544424Z",
     "iopub.status.busy": "2023-02-19T13:36:08.543984Z",
     "iopub.status.idle": "2023-02-19T13:36:57.038924Z",
     "shell.execute_reply": "2023-02-19T13:36:57.037729Z"
    },
    "papermill": {
     "duration": 48.525369,
     "end_time": "2023-02-19T13:36:57.054783",
     "exception": false,
     "start_time": "2023-02-19T13:36:08.529414",
     "status": "completed"
    },
    "tags": []
   },
   "outputs": [
    {
     "name": "stderr",
     "output_type": "stream",
     "text": [
      "/opt/conda/lib/python3.7/site-packages/ipykernel_launcher.py:2: UserWarning: \n",
      "\n",
      "`distplot` is a deprecated function and will be removed in seaborn v0.14.0.\n",
      "\n",
      "Please adapt your code to use either `displot` (a figure-level function with\n",
      "similar flexibility) or `histplot` (an axes-level function for histograms).\n",
      "\n",
      "For a guide to updating your code to use the new functions, please see\n",
      "https://gist.github.com/mwaskom/de44147ed2974457ad6372750bbe5751\n",
      "\n",
      "  \n"
     ]
    },
    {
     "data": {
      "image/png": "[encoded data removed]",
      "text/plain": [
       "<Figure size 700x700 with 1 Axes>"
      ]
     },
     "metadata": {},
     "output_type": "display_data"
    }
   ],
   "source": [
    "plt.figure(figsize = (7, 7))\n",
    "sns.distplot(normalized_arr)\n",
    "\n",
    "plt.grid()\n",
    "plt.title(\"Elapsed time - distribution plot\")\n",
    "plt.show()"
   ]
  },
  {
   "cell_type": "code",
   "execution_count": 26,
   "id": "13b2b795",
   "metadata": {
    "execution": {
     "iopub.execute_input": "2023-02-19T13:36:57.084735Z",
     "iopub.status.busy": "2023-02-19T13:36:57.084304Z",
     "iopub.status.idle": "2023-02-19T13:36:57.985572Z",
     "shell.execute_reply": "2023-02-19T13:36:57.984431Z"
    },
    "papermill": {
     "duration": 0.919287,
     "end_time": "2023-02-19T13:36:57.987985",
     "exception": false,
     "start_time": "2023-02-19T13:36:57.068698",
     "status": "completed"
    },
    "tags": []
   },
   "outputs": [
    {
     "name": "stderr",
     "output_type": "stream",
     "text": [
      "/opt/conda/lib/python3.7/site-packages/ipykernel_launcher.py:2: UserWarning: \n",
      "\n",
      "`distplot` is a deprecated function and will be removed in seaborn v0.14.0.\n",
      "\n",
      "Please adapt your code to use either `displot` (a figure-level function with\n",
      "similar flexibility) or `histplot` (an axes-level function for histograms).\n",
      "\n",
      "For a guide to updating your code to use the new functions, please see\n",
      "https://gist.github.com/mwaskom/de44147ed2974457ad6372750bbe5751\n",
      "\n",
      "  \n"
     ]
    },
    {
     "data": {
      "image/png": "[encoded data removed]",
      "text/plain": [
       "<Figure size 700x700 with 1 Axes>"
      ]
     },
     "metadata": {},
     "output_type": "display_data"
    }
   ],
   "source": [
    "plt.figure(figsize = (7, 7))\n",
    "sns.distplot(train_df.elapsed_time[::100])\n",
    "\n",
    "plt.grid()\n",
    "plt.title(\"Elapsed time - distribution plot\")\n",
    "plt.show()"
   ]
  },
  {
   "cell_type": "code",
   "execution_count": 27,
   "id": "c4c5571e",
   "metadata": {
    "execution": {
     "iopub.execute_input": "2023-02-19T13:36:58.020178Z",
     "iopub.status.busy": "2023-02-19T13:36:58.019769Z",
     "iopub.status.idle": "2023-02-19T13:37:58.538081Z",
     "shell.execute_reply": "2023-02-19T13:37:58.536786Z"
    },
    "papermill": {
     "duration": 60.537907,
     "end_time": "2023-02-19T13:37:58.541211",
     "exception": false,
     "start_time": "2023-02-19T13:36:58.003304",
     "status": "completed"
    },
    "tags": []
   },
   "outputs": [
    {
     "name": "stdout",
     "output_type": "stream",
     "text": [
      "0           20090312431273200\n",
      "2           20090312431273200\n",
      "3           20090312431273200\n",
      "1           20090312431273200\n",
      "4           20090312431273200\n",
      "                  ...        \n",
      "13174206    22100221145014656\n",
      "13174207    22100221145014656\n",
      "13174208    22100221145014656\n",
      "13174209    22100221145014656\n",
      "13174210    22100221145014656\n",
      "Name: session_id, Length: 13174211, dtype: int64\n"
     ]
    },
    {
     "name": "stderr",
     "output_type": "stream",
     "text": [
      "/opt/conda/lib/python3.7/site-packages/ipykernel_launcher.py:5: UserWarning: \n",
      "\n",
      "`distplot` is a deprecated function and will be removed in seaborn v0.14.0.\n",
      "\n",
      "Please adapt your code to use either `displot` (a figure-level function with\n",
      "similar flexibility) or `histplot` (an axes-level function for histograms).\n",
      "\n",
      "For a guide to updating your code to use the new functions, please see\n",
      "https://gist.github.com/mwaskom/de44147ed2974457ad6372750bbe5751\n",
      "\n",
      "  \"\"\"\n"
     ]
    },
    {
     "data": {
      "text/plain": [
       "Text(0.5, 1.0, 'Session ID')"
      ]
     },
     "execution_count": 27,
     "metadata": {},
     "output_type": "execute_result"
    },
    {
     "data": {
      "image/png": "[encoded data removed]",
      "text/plain": [
       "<Figure size 500x500 with 1 Axes>"
      ]
     },
     "metadata": {},
     "output_type": "display_data"
    }
   ],
   "source": [
    "plt.figure(figsize=(5, 5))\n",
    "\n",
    "session_id = train_df[\"session_id\"]\n",
    "print(session_id)\n",
    "sns.distplot(session_id, kde=True)\n",
    "plt.xlabel(\"session ID\", fontsize=12)\n",
    "plt.ylabel(\"Count\", fontsize=12)\n",
    "plt.title(\"Session ID\", fontsize=16)\n"
   ]
  },
  {
   "cell_type": "markdown",
   "id": "a4d95c7d",
   "metadata": {
    "papermill": {
     "duration": 0.015225,
     "end_time": "2023-02-19T13:37:58.572341",
     "exception": false,
     "start_time": "2023-02-19T13:37:58.557116",
     "status": "completed"
    },
    "tags": []
   },
   "source": [
    "# **Exploring the Labels csv**"
   ]
  },
  {
   "cell_type": "code",
   "execution_count": 28,
   "id": "2f2c7d94",
   "metadata": {
    "execution": {
     "iopub.execute_input": "2023-02-19T13:37:58.605673Z",
     "iopub.status.busy": "2023-02-19T13:37:58.605084Z",
     "iopub.status.idle": "2023-02-19T13:37:58.614274Z",
     "shell.execute_reply": "2023-02-19T13:37:58.613420Z"
    },
    "papermill": {
     "duration": 0.029342,
     "end_time": "2023-02-19T13:37:58.617389",
     "exception": false,
     "start_time": "2023-02-19T13:37:58.588047",
     "status": "completed"
    },
    "tags": []
   },
   "outputs": [
    {
     "data": {
      "text/html": [
       "<div>\n",
       "<style scoped>\n",
       "    .dataframe tbody tr th:only-of-type {\n",
       "        vertical-align: middle;\n",
       "    }\n",
       "\n",
       "    .dataframe tbody tr th {\n",
       "        vertical-align: top;\n",
       "    }\n",
       "\n",
       "    .dataframe thead th {\n",
       "        text-align: right;\n",
       "    }\n",
       "</style>\n",
       "<table border=\"1\" class=\"dataframe\">\n",
       "  <thead>\n",
       "    <tr style=\"text-align: right;\">\n",
       "      <th></th>\n",
       "      <th>session_id</th>\n",
       "      <th>correct</th>\n",
       "    </tr>\n",
       "  </thead>\n",
       "  <tbody>\n",
       "    <tr>\n",
       "      <th>0</th>\n",
       "      <td>20090312431273200_q1</td>\n",
       "      <td>1</td>\n",
       "    </tr>\n",
       "    <tr>\n",
       "      <th>1</th>\n",
       "      <td>20090312433251036_q1</td>\n",
       "      <td>0</td>\n",
       "    </tr>\n",
       "    <tr>\n",
       "      <th>2</th>\n",
       "      <td>20090314121766812_q1</td>\n",
       "      <td>1</td>\n",
       "    </tr>\n",
       "    <tr>\n",
       "      <th>3</th>\n",
       "      <td>20090314363702160_q1</td>\n",
       "      <td>1</td>\n",
       "    </tr>\n",
       "    <tr>\n",
       "      <th>4</th>\n",
       "      <td>20090314441803444_q1</td>\n",
       "      <td>1</td>\n",
       "    </tr>\n",
       "    <tr>\n",
       "      <th>5</th>\n",
       "      <td>20090315081004164_q1</td>\n",
       "      <td>0</td>\n",
       "    </tr>\n",
       "    <tr>\n",
       "      <th>6</th>\n",
       "      <td>20090315085850788_q1</td>\n",
       "      <td>1</td>\n",
       "    </tr>\n",
       "    <tr>\n",
       "      <th>7</th>\n",
       "      <td>20090315101457836_q1</td>\n",
       "      <td>1</td>\n",
       "    </tr>\n",
       "    <tr>\n",
       "      <th>8</th>\n",
       "      <td>20090315170769824_q1</td>\n",
       "      <td>1</td>\n",
       "    </tr>\n",
       "    <tr>\n",
       "      <th>9</th>\n",
       "      <td>20090317080721164_q1</td>\n",
       "      <td>0</td>\n",
       "    </tr>\n",
       "  </tbody>\n",
       "</table>\n",
       "</div>"
      ],
      "text/plain": [
       "             session_id  correct\n",
       "0  20090312431273200_q1        1\n",
       "1  20090312433251036_q1        0\n",
       "2  20090314121766812_q1        1\n",
       "3  20090314363702160_q1        1\n",
       "4  20090314441803444_q1        1\n",
       "5  20090315081004164_q1        0\n",
       "6  20090315085850788_q1        1\n",
       "7  20090315101457836_q1        1\n",
       "8  20090315170769824_q1        1\n",
       "9  20090317080721164_q1        0"
      ]
     },
     "execution_count": 28,
     "metadata": {},
     "output_type": "execute_result"
    }
   ],
   "source": [
    "labels_df.head(10)"
   ]
  },
  {
   "cell_type": "code",
   "execution_count": 29,
   "id": "37efb7ca",
   "metadata": {
    "execution": {
     "iopub.execute_input": "2023-02-19T13:37:58.650629Z",
     "iopub.status.busy": "2023-02-19T13:37:58.650035Z",
     "iopub.status.idle": "2023-02-19T13:37:58.904975Z",
     "shell.execute_reply": "2023-02-19T13:37:58.904038Z"
    },
    "papermill": {
     "duration": 0.274438,
     "end_time": "2023-02-19T13:37:58.907353",
     "exception": false,
     "start_time": "2023-02-19T13:37:58.632915",
     "status": "completed"
    },
    "tags": []
   },
   "outputs": [
    {
     "data": {
      "text/plain": [
       "<AxesSubplot:>"
      ]
     },
     "execution_count": 29,
     "metadata": {},
     "output_type": "execute_result"
    },
    {
     "data": {
      "image/png": "[encoded data removed]",
      "text/plain": [
       "<Figure size 400x400 with 1 Axes>"
      ]
     },
     "metadata": {},
     "output_type": "display_data"
    }
   ],
   "source": [
    "plt.figure(figsize = (4, 4))\n",
    "\n",
    "labels_df['correct'].hist()"
   ]
  },
  {
   "cell_type": "markdown",
   "id": "32a04e17",
   "metadata": {
    "papermill": {
     "duration": 0.016026,
     "end_time": "2023-02-19T13:37:58.939588",
     "exception": false,
     "start_time": "2023-02-19T13:37:58.923562",
     "status": "completed"
    },
    "tags": []
   },
   "source": [
    "> From the above graph it is visible that the data is imbalanced."
   ]
  }
 ],
 "metadata": {
  "kernelspec": {
   "display_name": "Python 3",
   "language": "python",
   "name": "python3"
  },
  "language_info": {
   "codemirror_mode": {
    "name": "ipython",
    "version": 3
   },
   "file_extension": ".py",
   "mimetype": "text/x-python",
   "name": "python",
   "nbconvert_exporter": "python",
   "pygments_lexer": "ipython3",
   "version": "3.7.12"
  },
  "papermill": {
   "default_parameters": {},
   "duration": 224.135562,
   "end_time": "2023-02-19T13:38:00.581831",
   "environment_variables": {},
   "exception": null,
   "input_path": "__notebook__.ipynb",
   "output_path": "__notebook__.ipynb",
   "parameters": {},
   "start_time": "2023-02-19T13:34:16.446269",
   "version": "2.3.4"
  }
 },
 "nbformat": 4,
 "nbformat_minor": 5
}
